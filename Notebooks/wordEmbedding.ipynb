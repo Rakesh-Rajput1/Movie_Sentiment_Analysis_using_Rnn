{
 "cells": [
  {
   "cell_type": "code",
   "execution_count": 17,
   "id": "a2f529b1",
   "metadata": {},
   "outputs": [],
   "source": [
    "from tensorflow.keras.preprocessing.text import one_hot"
   ]
  },
  {
   "cell_type": "code",
   "execution_count": 18,
   "id": "a39dbbd1",
   "metadata": {},
   "outputs": [],
   "source": [
    "## sentance \n",
    "\n",
    "sent =[\n",
    "    'the glass of milk',\n",
    "    'the glass of juice',\n",
    "    'the cup of tea',\n",
    "    'I am a good boy',\n",
    "    'I am good developer',\n",
    "    'understand the meaning of words',\n",
    "    'your video are good'\n",
    "]"
   ]
  },
  {
   "cell_type": "code",
   "execution_count": 19,
   "id": "d0006185",
   "metadata": {},
   "outputs": [
    {
     "data": {
      "text/plain": [
       "['the glass of milk',\n",
       " 'the glass of juice',\n",
       " 'the cup of tea',\n",
       " 'I am a good boy',\n",
       " 'I am good developer',\n",
       " 'understand the meaning of words',\n",
       " 'your video are good']"
      ]
     },
     "execution_count": 19,
     "metadata": {},
     "output_type": "execute_result"
    }
   ],
   "source": [
    "# check the sentances \n",
    "sent"
   ]
  },
  {
   "cell_type": "code",
   "execution_count": 20,
   "id": "cfc39071",
   "metadata": {},
   "outputs": [],
   "source": [
    "# Define the vocabulary size\n",
    "voc_size=10000"
   ]
  },
  {
   "cell_type": "code",
   "execution_count": 21,
   "id": "36e55b88",
   "metadata": {},
   "outputs": [
    {
     "data": {
      "text/plain": [
       "[[8803, 7179, 2613, 9961],\n",
       " [8803, 7179, 2613, 4973],\n",
       " [8803, 3727, 2613, 2938],\n",
       " [8659, 8949, 3154, 7621, 7835],\n",
       " [8659, 8949, 7621, 208],\n",
       " [7809, 8803, 3128, 2613, 7935],\n",
       " [1613, 3519, 2293, 7621]]"
      ]
     },
     "execution_count": 21,
     "metadata": {},
     "output_type": "execute_result"
    }
   ],
   "source": [
    "### One Hot Representation\n",
    "one_hot_repr=[one_hot(words,voc_size) for words in sent]\n",
    "one_hot_repr"
   ]
  },
  {
   "cell_type": "code",
   "execution_count": 22,
   "id": "59270321",
   "metadata": {},
   "outputs": [
    {
     "name": "stdout",
     "output_type": "stream",
     "text": [
      "the glass of milk\n",
      "the glass of juice\n",
      "the cup of tea\n",
      "I am a good boy\n",
      "I am good developer\n",
      "understand the meaning of words\n",
      "your video are good\n"
     ]
    }
   ],
   "source": [
    "for words in sent:\n",
    "    print(words)"
   ]
  },
  {
   "cell_type": "code",
   "execution_count": 23,
   "id": "d1dd1569",
   "metadata": {},
   "outputs": [],
   "source": [
    "## word Embedding\n",
    "from tensorflow.keras.layers import Embedding\n",
    "from tensorflow.keras.preprocessing.sequence import pad_sequences\n",
    "from tensorflow.keras.models import Sequential"
   ]
  },
  {
   "cell_type": "code",
   "execution_count": 24,
   "id": "77de8ebd",
   "metadata": {},
   "outputs": [],
   "source": [
    "import numpy as np"
   ]
  },
  {
   "cell_type": "code",
   "execution_count": 25,
   "id": "e9f82b15",
   "metadata": {},
   "outputs": [
    {
     "name": "stdout",
     "output_type": "stream",
     "text": [
      "[[   0    0    0    0 8803 7179 2613 9961]\n",
      " [   0    0    0    0 8803 7179 2613 4973]\n",
      " [   0    0    0    0 8803 3727 2613 2938]\n",
      " [   0    0    0 8659 8949 3154 7621 7835]\n",
      " [   0    0    0    0 8659 8949 7621  208]\n",
      " [   0    0    0 7809 8803 3128 2613 7935]\n",
      " [   0    0    0    0 1613 3519 2293 7621]]\n"
     ]
    }
   ],
   "source": [
    "### for make whole sentance in the equal length\n",
    "sent_length=8\n",
    "Embedded_docs=pad_sequences(one_hot_repr,padding='pre',maxlen=sent_length)\n",
    "print(Embedded_docs)"
   ]
  },
  {
   "cell_type": "code",
   "execution_count": 26,
   "id": "91f8f0c2",
   "metadata": {},
   "outputs": [],
   "source": [
    "### for ]feature representation need to create 10 demention for compare\n",
    "dim=10"
   ]
  },
  {
   "cell_type": "code",
   "execution_count": 27,
   "id": "05aedf0f",
   "metadata": {},
   "outputs": [],
   "source": [
    "model=Sequential()\n",
    "model.add(Embedding(voc_size,dim,input_length=sent_length))\n",
    "model.compile('adam','mse')"
   ]
  },
  {
   "cell_type": "code",
   "execution_count": 28,
   "id": "0c099759",
   "metadata": {},
   "outputs": [
    {
     "data": {
      "text/html": [
       "<pre style=\"white-space:pre;overflow-x:auto;line-height:normal;font-family:Menlo,'DejaVu Sans Mono',consolas,'Courier New',monospace\"><span style=\"font-weight: bold\">Model: \"sequential_1\"</span>\n",
       "</pre>\n"
      ],
      "text/plain": [
       "\u001b[1mModel: \"sequential_1\"\u001b[0m\n"
      ]
     },
     "metadata": {},
     "output_type": "display_data"
    },
    {
     "data": {
      "text/html": [
       "<pre style=\"white-space:pre;overflow-x:auto;line-height:normal;font-family:Menlo,'DejaVu Sans Mono',consolas,'Courier New',monospace\">┏━━━━━━━━━━━━━━━━━━━━━━━━━━━━━━━━━┳━━━━━━━━━━━━━━━━━━━━━━━━┳━━━━━━━━━━━━━━━┓\n",
       "┃<span style=\"font-weight: bold\"> Layer (type)                    </span>┃<span style=\"font-weight: bold\"> Output Shape           </span>┃<span style=\"font-weight: bold\">       Param # </span>┃\n",
       "┡━━━━━━━━━━━━━━━━━━━━━━━━━━━━━━━━━╇━━━━━━━━━━━━━━━━━━━━━━━━╇━━━━━━━━━━━━━━━┩\n",
       "│ embedding_1 (<span style=\"color: #0087ff; text-decoration-color: #0087ff\">Embedding</span>)         │ ?                      │   <span style=\"color: #00af00; text-decoration-color: #00af00\">0</span> (unbuilt) │\n",
       "└─────────────────────────────────┴────────────────────────┴───────────────┘\n",
       "</pre>\n"
      ],
      "text/plain": [
       "┏━━━━━━━━━━━━━━━━━━━━━━━━━━━━━━━━━┳━━━━━━━━━━━━━━━━━━━━━━━━┳━━━━━━━━━━━━━━━┓\n",
       "┃\u001b[1m \u001b[0m\u001b[1mLayer (type)                   \u001b[0m\u001b[1m \u001b[0m┃\u001b[1m \u001b[0m\u001b[1mOutput Shape          \u001b[0m\u001b[1m \u001b[0m┃\u001b[1m \u001b[0m\u001b[1m      Param #\u001b[0m\u001b[1m \u001b[0m┃\n",
       "┡━━━━━━━━━━━━━━━━━━━━━━━━━━━━━━━━━╇━━━━━━━━━━━━━━━━━━━━━━━━╇━━━━━━━━━━━━━━━┩\n",
       "│ embedding_1 (\u001b[38;5;33mEmbedding\u001b[0m)         │ ?                      │   \u001b[38;5;34m0\u001b[0m (unbuilt) │\n",
       "└─────────────────────────────────┴────────────────────────┴───────────────┘\n"
      ]
     },
     "metadata": {},
     "output_type": "display_data"
    },
    {
     "data": {
      "text/html": [
       "<pre style=\"white-space:pre;overflow-x:auto;line-height:normal;font-family:Menlo,'DejaVu Sans Mono',consolas,'Courier New',monospace\"><span style=\"font-weight: bold\"> Total params: </span><span style=\"color: #00af00; text-decoration-color: #00af00\">0</span> (0.00 B)\n",
       "</pre>\n"
      ],
      "text/plain": [
       "\u001b[1m Total params: \u001b[0m\u001b[38;5;34m0\u001b[0m (0.00 B)\n"
      ]
     },
     "metadata": {},
     "output_type": "display_data"
    },
    {
     "data": {
      "text/html": [
       "<pre style=\"white-space:pre;overflow-x:auto;line-height:normal;font-family:Menlo,'DejaVu Sans Mono',consolas,'Courier New',monospace\"><span style=\"font-weight: bold\"> Trainable params: </span><span style=\"color: #00af00; text-decoration-color: #00af00\">0</span> (0.00 B)\n",
       "</pre>\n"
      ],
      "text/plain": [
       "\u001b[1m Trainable params: \u001b[0m\u001b[38;5;34m0\u001b[0m (0.00 B)\n"
      ]
     },
     "metadata": {},
     "output_type": "display_data"
    },
    {
     "data": {
      "text/html": [
       "<pre style=\"white-space:pre;overflow-x:auto;line-height:normal;font-family:Menlo,'DejaVu Sans Mono',consolas,'Courier New',monospace\"><span style=\"font-weight: bold\"> Non-trainable params: </span><span style=\"color: #00af00; text-decoration-color: #00af00\">0</span> (0.00 B)\n",
       "</pre>\n"
      ],
      "text/plain": [
       "\u001b[1m Non-trainable params: \u001b[0m\u001b[38;5;34m0\u001b[0m (0.00 B)\n"
      ]
     },
     "metadata": {},
     "output_type": "display_data"
    }
   ],
   "source": [
    "### check the model summary \n",
    "model.summary()"
   ]
  },
  {
   "cell_type": "code",
   "execution_count": 38,
   "id": "3f93104b",
   "metadata": {},
   "outputs": [
    {
     "name": "stdout",
     "output_type": "stream",
     "text": [
      "\u001b[1m1/1\u001b[0m \u001b[32m━━━━━━━━━━━━━━━━━━━━\u001b[0m\u001b[37m\u001b[0m \u001b[1m0s\u001b[0m 43ms/step\n"
     ]
    },
    {
     "data": {
      "text/plain": [
       "array([[[ 0.02867338, -0.03853043,  0.04470306, -0.04620041,\n",
       "          0.03661932, -0.02162383, -0.00710173, -0.01931409,\n",
       "          0.01491893, -0.02820603],\n",
       "        [ 0.02867338, -0.03853043,  0.04470306, -0.04620041,\n",
       "          0.03661932, -0.02162383, -0.00710173, -0.01931409,\n",
       "          0.01491893, -0.02820603],\n",
       "        [ 0.02867338, -0.03853043,  0.04470306, -0.04620041,\n",
       "          0.03661932, -0.02162383, -0.00710173, -0.01931409,\n",
       "          0.01491893, -0.02820603],\n",
       "        [ 0.02867338, -0.03853043,  0.04470306, -0.04620041,\n",
       "          0.03661932, -0.02162383, -0.00710173, -0.01931409,\n",
       "          0.01491893, -0.02820603],\n",
       "        [-0.03971829,  0.04869946,  0.01541376,  0.01099831,\n",
       "         -0.04201317,  0.02100632, -0.0413642 ,  0.01478146,\n",
       "          0.01003547, -0.03057002],\n",
       "        [-0.02020254, -0.00653629, -0.01693752,  0.012566  ,\n",
       "          0.02400139,  0.0181529 ,  0.04173617,  0.0360877 ,\n",
       "         -0.0355952 , -0.0058312 ],\n",
       "        [-0.02590506, -0.00222998, -0.04699188,  0.034481  ,\n",
       "         -0.0300408 ,  0.04058703, -0.00698177, -0.02690618,\n",
       "          0.01509868, -0.04697317],\n",
       "        [ 0.00509344,  0.0393238 ,  0.0282365 ,  0.0353953 ,\n",
       "         -0.01043027, -0.04724809,  0.03753899,  0.046478  ,\n",
       "          0.04762727,  0.01352379]]], dtype=float32)"
      ]
     },
     "execution_count": 38,
     "metadata": {},
     "output_type": "execute_result"
    }
   ],
   "source": [
    "model.predict(Embedded_docs[[0]][[0]])"
   ]
  },
  {
   "cell_type": "code",
   "execution_count": 30,
   "id": "29fbdf4e",
   "metadata": {},
   "outputs": [
    {
     "data": {
      "text/plain": [
       "array([   0,    0,    0,    0, 8803, 7179, 2613, 9961])"
      ]
     },
     "execution_count": 30,
     "metadata": {},
     "output_type": "execute_result"
    }
   ],
   "source": [
    "Embedded_docs[0]"
   ]
  },
  {
   "cell_type": "code",
   "execution_count": null,
   "id": "ccb6e653",
   "metadata": {},
   "outputs": [],
   "source": []
  }
 ],
 "metadata": {
  "kernelspec": {
   "display_name": "Python 3",
   "language": "python",
   "name": "python3"
  },
  "language_info": {
   "codemirror_mode": {
    "name": "ipython",
    "version": 3
   },
   "file_extension": ".py",
   "mimetype": "text/x-python",
   "name": "python",
   "nbconvert_exporter": "python",
   "pygments_lexer": "ipython3",
   "version": "3.11.0"
  }
 },
 "nbformat": 4,
 "nbformat_minor": 5
}
